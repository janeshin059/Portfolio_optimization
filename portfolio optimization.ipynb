{
 "cells": [
  {
   "cell_type": "markdown",
   "metadata": {},
   "source": [
    "# Portfolio Optimization\n",
    "\n"
   ]
  },
  {
   "cell_type": "markdown",
   "metadata": {},
   "source": [
    "## 1. Original mean-variance model\n",
    "### The Efficient Frontier : Markowitz portfolio optimization \n",
    "\n",
    "Modern Portfolio Theory is about how investors construct portfolios that maximizes returns for given\n",
    "levels of risk.\n",
    "\n",
    "\n"
   ]
  },
  {
   "cell_type": "code",
   "execution_count": 446,
   "metadata": {},
   "outputs": [
    {
     "data": {
      "text/html": [
       "<div>\n",
       "<style scoped>\n",
       "    .dataframe tbody tr th:only-of-type {\n",
       "        vertical-align: middle;\n",
       "    }\n",
       "\n",
       "    .dataframe tbody tr th {\n",
       "        vertical-align: top;\n",
       "    }\n",
       "\n",
       "    .dataframe thead tr th {\n",
       "        text-align: left;\n",
       "    }\n",
       "\n",
       "    .dataframe thead tr:last-of-type th {\n",
       "        text-align: right;\n",
       "    }\n",
       "</style>\n",
       "<table border=\"1\" class=\"dataframe\">\n",
       "  <thead>\n",
       "    <tr>\n",
       "      <th></th>\n",
       "      <th colspan=\"4\" halign=\"left\">adj_close</th>\n",
       "    </tr>\n",
       "    <tr>\n",
       "      <th>ticker</th>\n",
       "      <th>CNP</th>\n",
       "      <th>F</th>\n",
       "      <th>GE</th>\n",
       "      <th>WMT</th>\n",
       "    </tr>\n",
       "    <tr>\n",
       "      <th>date</th>\n",
       "      <th></th>\n",
       "      <th></th>\n",
       "      <th></th>\n",
       "      <th></th>\n",
       "    </tr>\n",
       "  </thead>\n",
       "  <tbody>\n",
       "    <tr>\n",
       "      <th>2009-05-01</th>\n",
       "      <td>7.387214</td>\n",
       "      <td>4.484893</td>\n",
       "      <td>9.657888</td>\n",
       "      <td>40.359445</td>\n",
       "    </tr>\n",
       "    <tr>\n",
       "      <th>2009-05-04</th>\n",
       "      <td>7.360376</td>\n",
       "      <td>4.630711</td>\n",
       "      <td>9.969924</td>\n",
       "      <td>40.996487</td>\n",
       "    </tr>\n",
       "    <tr>\n",
       "      <th>2009-05-05</th>\n",
       "      <td>7.226185</td>\n",
       "      <td>4.611006</td>\n",
       "      <td>9.969924</td>\n",
       "      <td>40.690062</td>\n",
       "    </tr>\n",
       "    <tr>\n",
       "      <th>2009-05-06</th>\n",
       "      <td>7.273152</td>\n",
       "      <td>4.934170</td>\n",
       "      <td>10.403729</td>\n",
       "      <td>39.923999</td>\n",
       "    </tr>\n",
       "    <tr>\n",
       "      <th>2009-05-07</th>\n",
       "      <td>7.279861</td>\n",
       "      <td>4.776529</td>\n",
       "      <td>10.624438</td>\n",
       "      <td>40.230424</td>\n",
       "    </tr>\n",
       "  </tbody>\n",
       "</table>\n",
       "</div>"
      ],
      "text/plain": [
       "           adj_close                                \n",
       "ticker           CNP         F         GE        WMT\n",
       "date                                                \n",
       "2009-05-01  7.387214  4.484893   9.657888  40.359445\n",
       "2009-05-04  7.360376  4.630711   9.969924  40.996487\n",
       "2009-05-05  7.226185  4.611006   9.969924  40.690062\n",
       "2009-05-06  7.273152  4.934170  10.403729  39.923999\n",
       "2009-05-07  7.279861  4.776529  10.624438  40.230424"
      ]
     },
     "execution_count": 446,
     "metadata": {},
     "output_type": "execute_result"
    }
   ],
   "source": [
    "# get data first from Quandl\n",
    "\n",
    "import quandl\n",
    "import pandas as pd\n",
    "import numpy as np\n",
    "import matplotlib.pyplot as plt\n",
    "import os\n",
    "import datetime as dt\n",
    "import quandl\n",
    "\n",
    "quandl.ApiConfig.api_key = 'RnbjVbHE64Ds4TvB51sq'\n",
    "tickers = ['CNP', 'F', 'WMT', 'GE']\n",
    "## change tickers\n",
    "data = quandl.get_table('WIKI/PRICES', ticker = tickers,\n",
    "                        qopts = { 'columns': ['date', 'ticker', 'adj_close'] },\n",
    "                        date = { 'gte': '2009-05-01', 'lte': '2019-05-27' }, paginate=True)# 최근10년\n",
    "clean = data.set_index('date')\n",
    "table = clean.pivot(columns='ticker')\n",
    "\n",
    "table.head(5)"
   ]
  },
  {
   "cell_type": "markdown",
   "metadata": {},
   "source": [
    "#### can also use the below code box to import tickers from wiki."
   ]
  },
  {
   "cell_type": "markdown",
   "metadata": {},
   "source": [
    "# import tickers from Wikipedia\n",
    "\n",
    "import pickle\n",
    "import requests\n",
    "import bs4 as bs\n",
    "import lxml\n",
    "\n",
    "web_add = 'http://en.wikipedia.org/wiki/List_of_S%26P_500_companies'\n",
    "request = requests.get(web_add)\n",
    "soup = bs.BeautifulSoup(request.text,'html.parser')\n",
    "table = soup.find('table',{'class': 'wikitable sortable'})\n",
    "##download\n",
    "\n",
    "tickers = []\n",
    "for row in table.findAll('tr')[1:]:\n",
    "    ticker = row.findAll('td')[0].text\n",
    "    tickers.append(ticker[:-1])\n",
    "    "
   ]
  },
  {
   "cell_type": "markdown",
   "metadata": {},
   "source": [
    "## What is the optimal portfolio among the various optimal combinations?\n",
    "to get the efficient frontier, we need to simulate imaginary combinations of portfolios.  \n",
    "we should select portfolio which has maximized return & skewness , as well as minimized risk &kurtosis.  \n",
    "\n",
    "\n",
    "the paramont interest to investors to find what risk-return profiles are possible for a given set of financial instruments, and their statistical characertistics.\n",
    "\n",
    "to make a list of situations, Monte Carlo simulation for generating random portfolio weight vectors is required.  \n",
    "first, we should populate the empty lists with each portfolios returns, risk and weights.  \n",
    "then, we will get expected portfolio return and variance in each simulated allocation.\n",
    "\n"
   ]
  },
  {
   "cell_type": "code",
   "execution_count": 2,
   "metadata": {},
   "outputs": [],
   "source": [
    "#from IPython.display import Image\n",
    "#Image(filename = 'C:/Users/user/Desktop/19_1/Financial_Data_with_python/sharp.jpeg')\n",
    "import copy"
   ]
  },
  {
   "cell_type": "code",
   "execution_count": 449,
   "metadata": {
    "scrolled": true
   },
   "outputs": [
    {
     "data": {
      "text/plain": [
       "0.16298695003112615"
      ]
     },
     "execution_count": 449,
     "metadata": {},
     "output_type": "execute_result"
    }
   ],
   "source": [
    "# calculate daily and annual returns of the stocks\n",
    "returns_daily = table.pct_change()\n",
    "returns_annual = returns_daily.mean( ) * 250\n",
    "\n",
    "n_returns_daily = pd.DataFrame(returns_daily)\n",
    "\n",
    "\n",
    "df2 = pd.DataFrame(np.round(np.random.randn(2241, 4), 2),columns = [['adj_close','adj_close','adj_close','adj_close'],['CNP','F','GE','WMT']])\n",
    "\n",
    "df2.index.names  = ['ticker']\n",
    "df2['adj_close','CNP'] = 0.000654\n",
    "df2['adj_close','F'] = 0.000576\n",
    "df2['adj_close','GE']  = 0.000257\n",
    "df2['adj_close','WMT'] = 0.000395\n",
    "\n",
    "df2.head()\n",
    "\n",
    "def returns(weights):\n",
    "    return np.dot(weights,returns_annual)\n",
    "\n",
    "def volatility(weights):\n",
    "    return  np.sqrt(np.dot(weights.T, np.dot (cov_annual, weights)))\n",
    "\n",
    "#(n_returns_daily.reset_index(drop=True)).sub(df2).fillna(0).T\n",
    "\n",
    "def kurtosis(weights):\n",
    "    return (np.dot(weights.T,(n_returns_daily.reset_index(drop=True)).sub(df2).fillna(0).T).sum()/len(tickers))**4\n",
    "\n",
    "def skewness(weights): \n",
    "    return  (np.dot(weights.T,(n_returns_daily.reset_index(drop=True)).sub(df2).fillna(0).T).sum()/len(tickers))**3\n",
    "\n",
    "#df_returns_daily = pd.DataFrame(returns_daily.mean())\n",
    "\n",
    "# get daily and covariance of returns of the stock\n",
    "cov_daily = returns_daily.cov()\n",
    "cov_annual = cov_daily*250\n",
    "\n",
    "# skewness\n",
    "\n",
    "skew_daily = returns_daily.skew()\n",
    "skew_annual = skew_daily*250\n",
    "\n",
    "#kurtosis\n",
    "\n",
    "kurt_daily = returns_daily.kurtosis()\n",
    "kurt_annual = kurt_daily*250\n",
    "\n",
    "port_returns = []\n",
    "port_volatility = []\n",
    "\n",
    "port_skewness = []\n",
    "port_kurtosis = []\n",
    "\n",
    "sharpe_ratio = []\n",
    "stock_weights = []\n",
    "\n",
    "\n",
    "# the number of combinations for imaginary portfolios\n",
    "num_assets = len(tickers)\n",
    "num_portfolios = 500\n",
    "\n",
    "\n",
    "# set random seed for reproduction's sake\n",
    "np.random.seed(101)\n",
    "\n",
    "#kurtosis(weights)\n",
    "\n",
    "volatility(weights)"
   ]
  },
  {
   "cell_type": "code",
   "execution_count": 385,
   "metadata": {},
   "outputs": [],
   "source": [
    "#(np.dot(weights.T,(n_returns_daily.reset_index(drop=True)).sub(df2).fillna(0).T).sum()/len(tickers))**4"
   ]
  },
  {
   "cell_type": "code",
   "execution_count": 5,
   "metadata": {},
   "outputs": [],
   "source": [
    "# np.dot(weights.T,(n_returns_daily.sub(df2).fillna(0)**3).T).sum()"
   ]
  },
  {
   "cell_type": "code",
   "execution_count": 450,
   "metadata": {
    "scrolled": true
   },
   "outputs": [
    {
     "data": {
      "text/html": [
       "<div>\n",
       "<style scoped>\n",
       "    .dataframe tbody tr th:only-of-type {\n",
       "        vertical-align: middle;\n",
       "    }\n",
       "\n",
       "    .dataframe tbody tr th {\n",
       "        vertical-align: top;\n",
       "    }\n",
       "\n",
       "    .dataframe thead tr th {\n",
       "        text-align: left;\n",
       "    }\n",
       "\n",
       "    .dataframe thead tr:last-of-type th {\n",
       "        text-align: right;\n",
       "    }\n",
       "</style>\n",
       "<table border=\"1\" class=\"dataframe\">\n",
       "  <thead>\n",
       "    <tr>\n",
       "      <th></th>\n",
       "      <th colspan=\"4\" halign=\"left\">adj_close</th>\n",
       "    </tr>\n",
       "    <tr>\n",
       "      <th>ticker</th>\n",
       "      <th>CNP</th>\n",
       "      <th>F</th>\n",
       "      <th>GE</th>\n",
       "      <th>WMT</th>\n",
       "    </tr>\n",
       "    <tr>\n",
       "      <th>date</th>\n",
       "      <th></th>\n",
       "      <th></th>\n",
       "      <th></th>\n",
       "      <th></th>\n",
       "    </tr>\n",
       "  </thead>\n",
       "  <tbody>\n",
       "    <tr>\n",
       "      <th>2009-05-01</th>\n",
       "      <td>NaN</td>\n",
       "      <td>NaN</td>\n",
       "      <td>NaN</td>\n",
       "      <td>NaN</td>\n",
       "    </tr>\n",
       "    <tr>\n",
       "      <th>2009-05-04</th>\n",
       "      <td>-0.003633</td>\n",
       "      <td>0.032513</td>\n",
       "      <td>0.032309</td>\n",
       "      <td>0.015784</td>\n",
       "    </tr>\n",
       "    <tr>\n",
       "      <th>2009-05-05</th>\n",
       "      <td>-0.018232</td>\n",
       "      <td>-0.004255</td>\n",
       "      <td>0.000000</td>\n",
       "      <td>-0.007474</td>\n",
       "    </tr>\n",
       "    <tr>\n",
       "      <th>2009-05-06</th>\n",
       "      <td>0.006500</td>\n",
       "      <td>0.070085</td>\n",
       "      <td>0.043511</td>\n",
       "      <td>-0.018827</td>\n",
       "    </tr>\n",
       "    <tr>\n",
       "      <th>2009-05-07</th>\n",
       "      <td>0.000923</td>\n",
       "      <td>-0.031949</td>\n",
       "      <td>0.021214</td>\n",
       "      <td>0.007675</td>\n",
       "    </tr>\n",
       "  </tbody>\n",
       "</table>\n",
       "</div>"
      ],
      "text/plain": [
       "           adj_close                              \n",
       "ticker           CNP         F        GE       WMT\n",
       "date                                              \n",
       "2009-05-01       NaN       NaN       NaN       NaN\n",
       "2009-05-04 -0.003633  0.032513  0.032309  0.015784\n",
       "2009-05-05 -0.018232 -0.004255  0.000000 -0.007474\n",
       "2009-05-06  0.006500  0.070085  0.043511 -0.018827\n",
       "2009-05-07  0.000923 -0.031949  0.021214  0.007675"
      ]
     },
     "execution_count": 450,
     "metadata": {},
     "output_type": "execute_result"
    }
   ],
   "source": [
    "returns_daily.head()"
   ]
  },
  {
   "cell_type": "markdown",
   "metadata": {},
   "source": []
  },
  {
   "cell_type": "code",
   "execution_count": 283,
   "metadata": {},
   "outputs": [
    {
     "data": {
      "text/plain": [
       "0.0"
      ]
     },
     "execution_count": 283,
     "metadata": {},
     "output_type": "execute_result"
    }
   ],
   "source": [
    "#np.dot(weights.T,(n_returns_daily.sub(df2).fillna(0)**3).T).sum() / len(tickers)"
   ]
  },
  {
   "cell_type": "code",
   "execution_count": null,
   "metadata": {},
   "outputs": [],
   "source": []
  },
  {
   "cell_type": "code",
   "execution_count": 451,
   "metadata": {},
   "outputs": [
    {
     "data": {
      "text/html": [
       "<div>\n",
       "<style scoped>\n",
       "    .dataframe tbody tr th:only-of-type {\n",
       "        vertical-align: middle;\n",
       "    }\n",
       "\n",
       "    .dataframe tbody tr th {\n",
       "        vertical-align: top;\n",
       "    }\n",
       "\n",
       "    .dataframe thead tr th {\n",
       "        text-align: left;\n",
       "    }\n",
       "\n",
       "    .dataframe thead tr:last-of-type th {\n",
       "        text-align: right;\n",
       "    }\n",
       "</style>\n",
       "<table border=\"1\" class=\"dataframe\">\n",
       "  <thead>\n",
       "    <tr>\n",
       "      <th></th>\n",
       "      <th colspan=\"4\" halign=\"left\">adj_close</th>\n",
       "    </tr>\n",
       "    <tr>\n",
       "      <th></th>\n",
       "      <th>CNP</th>\n",
       "      <th>F</th>\n",
       "      <th>GE</th>\n",
       "      <th>WMT</th>\n",
       "    </tr>\n",
       "    <tr>\n",
       "      <th>ticker</th>\n",
       "      <th></th>\n",
       "      <th></th>\n",
       "      <th></th>\n",
       "      <th></th>\n",
       "    </tr>\n",
       "  </thead>\n",
       "  <tbody>\n",
       "    <tr>\n",
       "      <th>0</th>\n",
       "      <td>0.000654</td>\n",
       "      <td>0.000576</td>\n",
       "      <td>0.000257</td>\n",
       "      <td>0.000395</td>\n",
       "    </tr>\n",
       "    <tr>\n",
       "      <th>1</th>\n",
       "      <td>0.000654</td>\n",
       "      <td>0.000576</td>\n",
       "      <td>0.000257</td>\n",
       "      <td>0.000395</td>\n",
       "    </tr>\n",
       "    <tr>\n",
       "      <th>2</th>\n",
       "      <td>0.000654</td>\n",
       "      <td>0.000576</td>\n",
       "      <td>0.000257</td>\n",
       "      <td>0.000395</td>\n",
       "    </tr>\n",
       "    <tr>\n",
       "      <th>3</th>\n",
       "      <td>0.000654</td>\n",
       "      <td>0.000576</td>\n",
       "      <td>0.000257</td>\n",
       "      <td>0.000395</td>\n",
       "    </tr>\n",
       "    <tr>\n",
       "      <th>4</th>\n",
       "      <td>0.000654</td>\n",
       "      <td>0.000576</td>\n",
       "      <td>0.000257</td>\n",
       "      <td>0.000395</td>\n",
       "    </tr>\n",
       "  </tbody>\n",
       "</table>\n",
       "</div>"
      ],
      "text/plain": [
       "       adj_close                              \n",
       "             CNP         F        GE       WMT\n",
       "ticker                                        \n",
       "0       0.000654  0.000576  0.000257  0.000395\n",
       "1       0.000654  0.000576  0.000257  0.000395\n",
       "2       0.000654  0.000576  0.000257  0.000395\n",
       "3       0.000654  0.000576  0.000257  0.000395\n",
       "4       0.000654  0.000576  0.000257  0.000395"
      ]
     },
     "execution_count": 451,
     "metadata": {},
     "output_type": "execute_result"
    }
   ],
   "source": [
    "df2.head()\n"
   ]
  },
  {
   "cell_type": "code",
   "execution_count": 452,
   "metadata": {
    "scrolled": true
   },
   "outputs": [
    {
     "data": {
      "text/plain": [
       "<matplotlib.axes._subplots.AxesSubplot at 0x12a964dd588>"
      ]
     },
     "execution_count": 452,
     "metadata": {},
     "output_type": "execute_result"
    },
    {
     "data": {
      "image/png": "[encoded data removed]",
      "text/plain": [
       "<Figure size 432x288 with 1 Axes>"
      ]
     },
     "metadata": {},
     "output_type": "display_data"
    }
   ],
   "source": [
    "n_returns_daily.plot()"
   ]
  },
  {
   "cell_type": "code",
   "execution_count": 453,
   "metadata": {},
   "outputs": [],
   "source": [
    "for single_portfolio in range(num_portfolios):\n",
    "    weights = np.random.random(num_assets) # make random numbers \n",
    "    weights /= np.sum(weights) # random portfolio weights\n",
    "    \n",
    "    p_returns = np.dot(weights,returns_annual) #product of vector and matrix\n",
    "    \n",
    "    p_volatility = np.sqrt(np.dot(weights.T, np.dot (cov_annual, weights)))\n",
    "    \n",
    "    sharpe = p_returns / p_volatility\n",
    "    \n",
    "    sharpe_ratio.append(sharpe)\n",
    "    \n",
    "    port_returns.append(returns(weights))\n",
    "    \n",
    "    port_volatility.append(volatility(weights))\n",
    "    \n",
    "    port_skewness.append(skewness(weights))\n",
    "    \n",
    "    port_kurtosis.append(kurtosis(weights))\n",
    "    \n",
    "    stock_weights.append(weights)"
   ]
  },
  {
   "cell_type": "code",
   "execution_count": null,
   "metadata": {},
   "outputs": [],
   "source": []
  },
  {
   "cell_type": "code",
   "execution_count": 454,
   "metadata": {},
   "outputs": [],
   "source": [
    "# a dictionary for returns and risk values of each portfolio\n",
    "portfolio = {'Returns':port_returns,'Volatility':port_volatility, 'Sharpe Ratio':sharpe_ratio}\n",
    "\n",
    "# extended original dictionary to accomadate each ticke and weight in the portfolio\n",
    "for counter,symbol in enumerate(tickers):\n",
    "    portfolio[symbol + 'Weight'] = [Weight[counter] for Weight in stock_weights]\n",
    "    \n",
    "df = pd.DataFrame(portfolio)\n",
    "\n",
    "column_order = ['Returns','Volatility','Sharpe Ratio'] + [stock + 'Weight' for stock in tickers]\n",
    "\n",
    "df = df[column_order]\n",
    "\n"
   ]
  },
  {
   "cell_type": "code",
   "execution_count": 455,
   "metadata": {
    "scrolled": false
   },
   "outputs": [
    {
     "data": {
      "image/png": "[encoded data removed]",
      "text/plain": [
       "<Figure size 720x576 with 2 Axes>"
      ]
     },
     "metadata": {},
     "output_type": "display_data"
    }
   ],
   "source": [
    "plt.style.use('seaborn-dark')\n",
    "df.plot.scatter(x='Volatility', y='Returns', c='Sharpe Ratio',\n",
    "                cmap='RdYlGn', edgecolors='black', figsize=(10, 8), grid=True)\n",
    "plt.xlabel('Volatility (Std. Deviation)')\n",
    "plt.ylabel('Expected Returns')\n",
    "plt.title('Efficient Frontier')\n",
    "plt.show()\n"
   ]
  },
  {
   "cell_type": "markdown",
   "metadata": {},
   "source": [
    "# Optimal Portfolios\n"
   ]
  },
  {
   "cell_type": "markdown",
   "metadata": {},
   "source": [
    "We will test 3 methods:\n",
    "1. minimize portfolio variance\n",
    "\n",
    "2. equal weights\n",
    "\n",
    "3. maximizing return(mean) & skewness , minimizing risk(variance) &kurtosis\n",
    "this model is extended from Markowitz's mean-variance model."
   ]
  },
  {
   "cell_type": "code",
   "execution_count": 422,
   "metadata": {},
   "outputs": [],
   "source": [
    "import scipy.optimize as sco"
   ]
  },
  {
   "cell_type": "code",
   "execution_count": 14,
   "metadata": {},
   "outputs": [],
   "source": [
    "#this minimize fiunction is quite genral and allows for equality constaraints,\n",
    "#inequility constraints, anc numerical bounds for the parameters\n"
   ]
  },
  {
   "cell_type": "code",
   "execution_count": 456,
   "metadata": {},
   "outputs": [
    {
     "data": {
      "text/plain": [
       "array([0.25, 0.25, 0.25, 0.25])"
      ]
     },
     "execution_count": 456,
     "metadata": {},
     "output_type": "execute_result"
    }
   ],
   "source": [
    "cons = ({'type':'eq','fun' : lambda x : np.sum(x) - 1}) #equality constraint\n",
    "\n",
    "bnds = tuple((0,1) for x in range(num_assets))  #bonds for the parameters\n",
    "\n",
    "eweights = np.array(num_assets* [1. / num_assets,]) #equal weights vector\n",
    "eweights\n",
    "\n",
    "\n"
   ]
  },
  {
   "cell_type": "markdown",
   "metadata": {},
   "source": [
    "### minimize portfolio variance\n",
    "- minimum volatility\n",
    "- minimum variance portfolio\n"
   ]
  },
  {
   "cell_type": "code",
   "execution_count": 457,
   "metadata": {},
   "outputs": [
    {
     "data": {
      "text/plain": [
       "     fun: 0.14076467102770465\n",
       "     jac: array([0.14145519, 0.14099785, 0.14006851, 0.14048788])\n",
       " message: 'Optimization terminated successfully.'\n",
       "    nfev: 31\n",
       "     nit: 5\n",
       "    njev: 5\n",
       "  status: 0\n",
       " success: True\n",
       "       x: array([0.32602012, 0.02572137, 0.12348349, 0.52477502])"
      ]
     },
     "execution_count": 457,
     "metadata": {},
     "output_type": "execute_result"
    }
   ],
   "source": [
    "optv = sco.minimize(volatility, eweights, method = 'SLSQP', bounds = bnds, constraints = cons)\n",
    "\n",
    "optv"
   ]
  },
  {
   "cell_type": "code",
   "execution_count": 458,
   "metadata": {},
   "outputs": [
    {
     "data": {
      "text/plain": [
       "array([0.326 , 0.0257, 0.1235, 0.5248])"
      ]
     },
     "execution_count": 458,
     "metadata": {},
     "output_type": "execute_result"
    }
   ],
   "source": [
    "optv['x'].round(4)"
   ]
  },
  {
   "cell_type": "code",
   "execution_count": 459,
   "metadata": {},
   "outputs": [
    {
     "data": {
      "text/plain": [
       "0.1408"
      ]
     },
     "execution_count": 459,
     "metadata": {},
     "output_type": "execute_result"
    }
   ],
   "source": [
    "volatility(optv['x']).round(4)\n",
    "\n"
   ]
  },
  {
   "cell_type": "code",
   "execution_count": 460,
   "metadata": {},
   "outputs": [
    {
     "data": {
      "text/plain": [
       "0.1168"
      ]
     },
     "execution_count": 460,
     "metadata": {},
     "output_type": "execute_result"
    }
   ],
   "source": [
    "returns(optv['x']).round(4)"
   ]
  },
  {
   "cell_type": "markdown",
   "metadata": {},
   "source": [
    "### Equal weights\n",
    "\n"
   ]
  },
  {
   "cell_type": "code",
   "execution_count": 463,
   "metadata": {},
   "outputs": [
    {
     "data": {
      "text/plain": [
       "array([0.25, 0.25, 0.25, 0.25])"
      ]
     },
     "execution_count": 463,
     "metadata": {},
     "output_type": "execute_result"
    }
   ],
   "source": [
    "cons = ({'type':'eq','fun' : lambda x : np.sum(x) - 1}) #equality constraint\n",
    "\n",
    "bnds = tuple((0,1) for x in range(num_assets))  #bonds for the parameters\n",
    "\n",
    "equal_weights = np.array(num_assets* [1. / num_assets,]) #equal weights vector\n",
    "equal_weights\n"
   ]
  },
  {
   "cell_type": "code",
   "execution_count": 464,
   "metadata": {},
   "outputs": [
    {
     "data": {
      "text/plain": [
       "0.1636"
      ]
     },
     "execution_count": 464,
     "metadata": {},
     "output_type": "execute_result"
    }
   ],
   "source": [
    "volatility(equal_weights).round(4)"
   ]
  },
  {
   "cell_type": "code",
   "execution_count": 465,
   "metadata": {},
   "outputs": [
    {
     "data": {
      "text/plain": [
       "0.1177"
      ]
     },
     "execution_count": 465,
     "metadata": {},
     "output_type": "execute_result"
    }
   ],
   "source": [
    "returns(equal_weights).round(4)"
   ]
  },
  {
   "cell_type": "markdown",
   "metadata": {},
   "source": [
    "### maximizing return(mean) & skewness , minimizing risk(variance) &kurtosis\n",
    "\n",
    "- extended Markowitz's model\n",
    "\n",
    "\n",
    "\n"
   ]
  },
  {
   "cell_type": "code",
   "execution_count": 394,
   "metadata": {},
   "outputs": [],
   "source": [
    "import numpy as np\n",
    "import pandas as pd\n",
    "import matplotlib.pyplot as plt\n",
    "\n",
    "from sklearn.neighbors import KDTree\n",
    "from pandas.plotting import scatter_matrix\n",
    "from scipy.spatial import ConvexHull\n",
    "\n"
   ]
  },
  {
   "cell_type": "code",
   "execution_count": 466,
   "metadata": {},
   "outputs": [
    {
     "data": {
      "text/plain": [
       "0.16360798616241193"
      ]
     },
     "execution_count": 466,
     "metadata": {},
     "output_type": "execute_result"
    }
   ],
   "source": [
    "rn = lambda weights : returns(weights)\n",
    "\n",
    "optm = sco.minimize(lambda weights : -rn(weights), eweights, method = 'SLSQP', bounds =bnds, constraints = cons)\n",
    "\n",
    "-optm.fun"
   ]
  },
  {
   "cell_type": "code",
   "execution_count": 467,
   "metadata": {},
   "outputs": [
    {
     "data": {
      "text/plain": [
       "5.809243120870251e-12"
      ]
     },
     "execution_count": 467,
     "metadata": {},
     "output_type": "execute_result"
    }
   ],
   "source": [
    "ske = lambda weights : skewness(weights)\n",
    "\n",
    "opts = sco.minimize(lambda weights : -ske(weights), eweights, method = 'SLSQP', bounds =bnds, constraints = cons)\n",
    "\n",
    "-opts.fun"
   ]
  },
  {
   "cell_type": "code",
   "execution_count": 468,
   "metadata": {},
   "outputs": [],
   "source": [
    "\n",
    "optk = sco.minimize(kurtosis, eweights, method = 'SLSQP', bounds =bnds, constraints = cons)\n"
   ]
  },
  {
   "cell_type": "code",
   "execution_count": 469,
   "metadata": {
    "scrolled": true
   },
   "outputs": [
    {
     "data": {
      "text/plain": [
       "     fun: -0.16360798616241193\n",
       "     jac: array([-0.16360799, -0.14406324, -0.06436619, -0.0987836 ])\n",
       " message: 'Optimization terminated successfully.'\n",
       "    nfev: 54\n",
       "     nit: 9\n",
       "    njev: 9\n",
       "  status: 0\n",
       " success: True\n",
       "       x: array([1.00000000e+00, 3.88578059e-16, 1.89084859e-16, 0.00000000e+00])"
      ]
     },
     "execution_count": 469,
     "metadata": {},
     "output_type": "execute_result"
    }
   ],
   "source": [
    "optm"
   ]
  },
  {
   "cell_type": "code",
   "execution_count": 470,
   "metadata": {},
   "outputs": [
    {
     "data": {
      "text/plain": [
       "     fun: 0.14076467102770465\n",
       "     jac: array([0.14145519, 0.14099785, 0.14006851, 0.14048788])\n",
       " message: 'Optimization terminated successfully.'\n",
       "    nfev: 31\n",
       "     nit: 5\n",
       "    njev: 5\n",
       "  status: 0\n",
       " success: True\n",
       "       x: array([0.32602012, 0.02572137, 0.12348349, 0.52477502])"
      ]
     },
     "execution_count": 470,
     "metadata": {},
     "output_type": "execute_result"
    }
   ],
   "source": [
    "optv\n"
   ]
  },
  {
   "cell_type": "code",
   "execution_count": 477,
   "metadata": {
    "scrolled": false
   },
   "outputs": [
    {
     "data": {
      "text/plain": [
       "     fun: -5.809243120870251e-12\n",
       "     jac: array([-2.34495658e-11, -1.37324019e-11, -2.52310564e-11, -7.29471209e-12])\n",
       " message: 'Optimization terminated successfully.'\n",
       "    nfev: 6\n",
       "     nit: 1\n",
       "    njev: 1\n",
       "  status: 0\n",
       " success: True\n",
       "       x: array([0.25, 0.25, 0.25, 0.25])"
      ]
     },
     "execution_count": 477,
     "metadata": {},
     "output_type": "execute_result"
    }
   ],
   "source": [
    "opts"
   ]
  },
  {
   "cell_type": "code",
   "execution_count": 478,
   "metadata": {
    "scrolled": true
   },
   "outputs": [
    {
     "data": {
      "text/plain": [
       "     fun: 1.0443019040523665e-15\n",
       "     jac: array([5.62056616e-15, 3.29148411e-15, 6.04756706e-15, 1.74845078e-15])\n",
       " message: 'Optimization terminated successfully.'\n",
       "    nfev: 6\n",
       "     nit: 1\n",
       "    njev: 1\n",
       "  status: 0\n",
       " success: True\n",
       "       x: array([0.25, 0.25, 0.25, 0.25])"
      ]
     },
     "execution_count": 478,
     "metadata": {},
     "output_type": "execute_result"
    }
   ],
   "source": [
    "optk"
   ]
  },
  {
   "cell_type": "code",
   "execution_count": 485,
   "metadata": {},
   "outputs": [
    {
     "data": {
      "text/plain": [
       "1.7436844556137359"
      ]
     },
     "execution_count": 485,
     "metadata": {},
     "output_type": "execute_result"
    }
   ],
   "source": [
    "Mstar = 0.16360798616241193\n",
    "Vstar =  0.14076467102770465\n",
    "Sstar = 5.809243120870251e-12\n",
    "Kstar = 1.0443019040523665e-15\n",
    "\n",
    "delta1 = Mstar - returns(weights) \n",
    "delta2 = volatility(weights) - Vstar \n",
    "delta3 = Sstar - skewness(weights) \n",
    "delta4 = kurtosis(weights) - Kstar\n",
    "\n",
    "lambda1 = 1\n",
    "lambda2 = 1\n",
    "lambda3 = 1\n",
    "lambda4 = 1\n",
    "\n",
    "#np.dot(weights,eye(num_assets)) = 1\n",
    "\n",
    "def objective_func(weights):\n",
    "    return abs(1-returns(weights)/Mstar)**lambda1 + abs(volatility(weights)/Vstar-1)**lambda2 + abs(1-skewness(weights)/Sstar)**lambda3+ abs(kurtosis(weights)/Kstar -1)**lambda4\n",
    "\n",
    "#objective function Z\n",
    "objective_func(weights)\n"
   ]
  },
  {
   "cell_type": "code",
   "execution_count": 487,
   "metadata": {},
   "outputs": [
    {
     "data": {
      "text/plain": [
       "     fun: 1.2145104671477938\n",
       "     jac: array([-3.2639648 , -2.17481753, -2.78284103, -1.11168239])\n",
       " message: 'Optimization terminated successfully.'\n",
       "    nfev: 59\n",
       "     nit: 6\n",
       "    njev: 6\n",
       "  status: 0\n",
       " success: True\n",
       "       x: array([5.96862109e-01, 7.60966478e-02, 1.98085032e-17, 3.27041243e-01])"
      ]
     },
     "execution_count": 487,
     "metadata": {},
     "output_type": "execute_result"
    }
   ],
   "source": [
    "optz = sco.minimize(objective_func, eweights, method = 'SLSQP', bounds = bnds, constraints = cons)\n",
    "optz"
   ]
  },
  {
   "cell_type": "code",
   "execution_count": 481,
   "metadata": {},
   "outputs": [
    {
     "data": {
      "text/plain": [
       "                        fun: 1.7436844556137356\n",
       " lowest_optimization_result:      fun: 1.7436844556137356\n",
       "     jac: array([0., 0., 0., 0.])\n",
       " message: 'Optimization terminated successfully.'\n",
       "    nfev: 6\n",
       "     nit: 1\n",
       "    njev: 1\n",
       "  status: 0\n",
       " success: True\n",
       "       x: array([0.25, 0.25, 0.25, 0.25])\n",
       "                    message: ['requested number of basinhopping iterations completed successfully']\n",
       "      minimization_failures: 0\n",
       "                       nfev: 186\n",
       "                        nit: 30\n",
       "                       njev: 31\n",
       "                          x: array([0.25, 0.25, 0.25, 0.25])"
      ]
     },
     "execution_count": 481,
     "metadata": {},
     "output_type": "execute_result"
    }
   ],
   "source": [
    "minimizer_kwargs = {\"method\": \"SLSQP\"}\n",
    "optz = sco.basinhopping(objective_func, eweights,minimizer_kwargs=minimizer_kwargs,niter=30,stepsize = 1)\n",
    "optz"
   ]
  },
  {
   "cell_type": "code",
   "execution_count": null,
   "metadata": {},
   "outputs": [],
   "source": []
  }
 ],
 "metadata": {
  "kernelspec": {
   "display_name": "Python 3",
   "language": "python",
   "name": "python3"
  },
  "language_info": {
   "codemirror_mode": {
    "name": "ipython",
    "version": 3
   },
   "file_extension": ".py",
   "mimetype": "text/x-python",
   "name": "python",
   "nbconvert_exporter": "python",
   "pygments_lexer": "ipython3",
   "version": "3.7.1"
  }
 },
 "nbformat": 4,
 "nbformat_minor": 2
}
